{
 "cells": [
  {
   "cell_type": "code",
   "execution_count": 36,
   "metadata": {},
   "outputs": [],
   "source": [
    "import numpy as np\n",
    "from sklearn.neighbors import NearestCentroid\n",
    "from sklearn.neighbors import KNeighborsClassifier\n",
    "from sklearn.naive_bayes import GaussianNB, MultinomialNB\n",
    "from sklearn.tree import DecisionTreeClassifier\n",
    "from sklearn.ensemble import RandomForestClassifier\n",
    "from sklearn.svm import SVC \n",
    "\n",
    "def run(x_train, y_train, x_test, y_test, clf):\n",
    "    clf.fit(x_train, y_train)\n",
    "    print(\"    predictions  :\", clf.predict(x_test))\n",
    "    print(\"    actual labels:\", y_test)\n",
    "    print(\"    score = %0.7f\" % clf.score(x_test, y_test))\n",
    "    print()\n"
   ]
  },
  {
   "cell_type": "code",
   "execution_count": 37,
   "metadata": {},
   "outputs": [],
   "source": [
    "\n",
    "x = np.load(\"../data/iris/iris_features.npy\")\n",
    "y = np.load(\"../data/iris/iris_labels.npy\")\n",
    "N = 120 \n",
    "x_train = x[:N]; x_test = x[N:]\n",
    "y_train = y[:N]; y_test = y[N:]\n",
    "xa_train=np.load(\"../data/iris/iris_train_features_augmented.npy\")\n",
    "ya_train=np.load(\"../data/iris/iris_train_labels_augmented.npy\")\n",
    "xa_test =np.load(\"../data/iris/iris_test_features_augmented.npy\")\n",
    "ya_test =np.load(\"../data/iris/iris_test_labels_augmented.npy\")\n",
    "\n"
   ]
  },
  {
   "cell_type": "code",
   "execution_count": 38,
   "metadata": {},
   "outputs": [
    {
     "name": "stdout",
     "output_type": "stream",
     "text": [
      "Nearest centroid:\n",
      "    predictions  : [0 0 1 1 0 1 2 1 1 1 0 2 1 0 0 1 2 2 1 1 0 2 2 0 1 0 2 1 2 0]\n",
      "    actual labels: [0 0 1 2 0 1 2 1 1 1 0 2 2 0 0 2 2 2 1 1 0 2 2 0 1 0 2 1 2 0]\n",
      "    score = 0.9000000\n",
      "\n"
     ]
    }
   ],
   "source": [
    "\n",
    "\n",
    "print(\"Nearest centroid:\")\n",
    "run(x_train, y_train, x_test, y_test, NearestCentroid())\n"
   ]
  },
  {
   "cell_type": "code",
   "execution_count": 39,
   "metadata": {},
   "outputs": [
    {
     "name": "stdout",
     "output_type": "stream",
     "text": [
      "k-NN classifier (k=3):\n",
      "    predictions  : [0 0 1 1 0 1 2 1 1 1 0 2 2 0 0 2 2 1 1 1 0 2 2 0 1 0 2 1 2 0]\n",
      "    actual labels: [0 0 1 2 0 1 2 1 1 1 0 2 2 0 0 2 2 2 1 1 0 2 2 0 1 0 2 1 2 0]\n",
      "    score = 0.9333333\n",
      "\n"
     ]
    }
   ],
   "source": [
    "\n",
    "print(\"k-NN classifier (k=3):\")\n",
    "run(x_train, y_train, x_test, y_test, KNeighborsClassifier(n_neighbors=3))\n",
    "\n"
   ]
  },
  {
   "cell_type": "code",
   "execution_count": 40,
   "metadata": {},
   "outputs": [
    {
     "name": "stdout",
     "output_type": "stream",
     "text": [
      "Naive Bayes classifier (Gaussian):\n",
      "    predictions  : [0 0 1 1 0 1 2 1 1 1 0 2 2 0 0 2 2 1 1 1 0 2 2 0 1 0 2 1 2 0]\n",
      "    actual labels: [0 0 1 2 0 1 2 1 1 1 0 2 2 0 0 2 2 2 1 1 0 2 2 0 1 0 2 1 2 0]\n",
      "    score = 0.9333333\n",
      "\n"
     ]
    }
   ],
   "source": [
    "\n",
    "print(\"Naive Bayes classifier (Gaussian):\")\n",
    "run(x_train, y_train, x_test, y_test, GaussianNB())\n",
    "\n"
   ]
  },
  {
   "cell_type": "code",
   "execution_count": 41,
   "metadata": {},
   "outputs": [
    {
     "name": "stdout",
     "output_type": "stream",
     "text": [
      "Naive Bayes classifier (Multinomial):\n",
      "    predictions  : [0 0 1 2 0 1 2 1 1 1 0 1 2 0 0 2 2 1 1 1 0 2 2 0 1 0 1 1 2 0]\n",
      "    actual labels: [0 0 1 2 0 1 2 1 1 1 0 2 2 0 0 2 2 2 1 1 0 2 2 0 1 0 2 1 2 0]\n",
      "    score = 0.9000000\n",
      "\n"
     ]
    }
   ],
   "source": [
    "print(\"Naive Bayes classifier (Multinomial):\")\n",
    "run(x_train, y_train, x_test, y_test, MultinomialNB())\n",
    "\n"
   ]
  },
  {
   "attachments": {},
   "cell_type": "markdown",
   "metadata": {},
   "source": [
    "Gaussian Naive Bayes (GaussianNB) and Multinomial Naive Bayes (MultinomialNB) are two variants of the Naive Bayes algorithm used for classification tasks. **GaussianNB is designed for continuous data, while MultinomialNB is designed for discrete count data.** GaussianNB models the probability distribution of each feature using a Gaussian distribution, while MultinomialNB models the probability distribution of each feature using a multinomial distribution. GaussianNB is often used for image recognition or text classification, while MultinomialNB is often used for text classification with word counts. Other variants of the Naive Bayes algorithm exist, such as Bernoulli Naive Bayes and Complement Naive Bayes, that are designed to handle different types of data and assumptions about the data distribution.\n",
    "\n",
    "Sources:\n",
    "- [Scikit-learn documentation on Naive Bayes](https://scikit-learn.org/stable/modules/naive_bayes.html)"
   ]
  },
  {
   "cell_type": "code",
   "execution_count": 42,
   "metadata": {},
   "outputs": [
    {
     "name": "stdout",
     "output_type": "stream",
     "text": [
      "Decision Tree classifier:\n",
      "    predictions  : [0 0 1 1 0 1 2 1 1 1 0 2 2 0 0 2 2 1 1 1 0 2 2 0 1 0 2 1 2 0]\n",
      "    actual labels: [0 0 1 2 0 1 2 1 1 1 0 2 2 0 0 2 2 2 1 1 0 2 2 0 1 0 2 1 2 0]\n",
      "    score = 0.9333333\n",
      "\n"
     ]
    }
   ],
   "source": [
    "\n",
    "print(\"Decision Tree classifier:\")\n",
    "run(x_train, y_train, x_test, y_test, DecisionTreeClassifier())\n"
   ]
  },
  {
   "cell_type": "code",
   "execution_count": 28,
   "metadata": {},
   "outputs": [
    {
     "name": "stdout",
     "output_type": "stream",
     "text": [
      "Random Forest classifier (estimators=5):\n",
      "    predictions  : [0 0 1 1 0 1 2 1 1 1 0 2 2 0 0 2 2 1 1 1 0 2 2 0 1 0 2 1 2 0]\n",
      "    actual labels: [0 0 1 2 0 1 2 1 1 1 0 2 2 0 0 2 2 2 1 1 0 2 2 0 1 0 2 1 2 0]\n",
      "    score = 0.9333333\n",
      "\n"
     ]
    }
   ],
   "source": [
    "\n",
    "\n",
    "print(\"Random Forest classifier (estimators=5):\")\n",
    "run(xa_train, ya_train, xa_test, ya_test, RandomForestClassifier(n_estimators=5))\n"
   ]
  },
  {
   "cell_type": "code",
   "execution_count": 29,
   "metadata": {},
   "outputs": [
    {
     "name": "stdout",
     "output_type": "stream",
     "text": [
      "SVM (linear, C=1.0):\n",
      "    predictions  : [0 0 1 2 0 1 2 1 1 1 0 2 2 0 0 2 2 1 1 1 0 2 2 0 1 0 2 1 2 0]\n",
      "    actual labels: [0 0 1 2 0 1 2 1 1 1 0 2 2 0 0 2 2 2 1 1 0 2 2 0 1 0 2 1 2 0]\n",
      "    score = 0.9666667\n",
      "\n",
      "SVM (RBF, C=1.0, gamma=0.25):\n",
      "    predictions  : [0 0 1 2 0 1 2 1 1 1 0 2 2 0 0 2 2 1 1 1 0 2 2 0 1 0 2 1 2 0]\n",
      "    actual labels: [0 0 1 2 0 1 2 1 1 1 0 2 2 0 0 2 2 2 1 1 0 2 2 0 1 0 2 1 2 0]\n",
      "    score = 0.9666667\n",
      "\n",
      "SVM (RBF, C=1.0, gamma=0.001, augmented)\n",
      "    predictions  : [0 0 1 1 0 1 2 1 1 1 0 2 2 0 0 1 2 1 1 1 0 2 2 0 1 0 2 1 2 0]\n",
      "    actual labels: [0 0 1 2 0 1 2 1 1 1 0 2 2 0 0 2 2 2 1 1 0 2 2 0 1 0 2 1 2 0]\n",
      "    score = 0.9000000\n",
      "\n",
      "SVM (RBF, C=1.0, gamma=0.001, original)\n",
      "    predictions  : [0 0 1 1 1 1 1 1 1 1 0 1 1 0 0 1 1 1 1 1 0 1 1 0 1 0 1 1 1 0]\n",
      "    actual labels: [0 0 1 2 0 1 2 1 1 1 0 2 2 0 0 2 2 2 1 1 0 2 2 0 1 0 2 1 2 0]\n",
      "    score = 0.6000000\n",
      "\n"
     ]
    }
   ],
   "source": [
    "\n",
    "print(\"SVM (linear, C=1.0):\")\n",
    "run(xa_train, ya_train, xa_test, ya_test, SVC(kernel=\"linear\", C=1.0))\n",
    "print(\"SVM (RBF, C=1.0, gamma=0.25):\")\n",
    "run(xa_train, ya_train, xa_test, ya_test, SVC(kernel=\"rbf\", C=1.0, gamma=0.25))\n",
    "print(\"SVM (RBF, C=1.0, gamma=0.001, augmented)\")\n",
    "run(xa_train, ya_train, xa_test, ya_test, SVC(kernel=\"rbf\", C=1.0, gamma=0.001))\n",
    "print(\"SVM (RBF, C=1.0, gamma=0.001, original)\")\n",
    "run(x_train, y_train, x_test, y_test, SVC(kernel=\"rbf\", C=1.0, gamma=0.001))\n",
    "\n",
    "\n",
    "\n"
   ]
  }
 ],
 "metadata": {
  "kernelspec": {
   "display_name": "Python 3.8 - Pytorch and Tensorflow",
   "language": "python",
   "name": "python38-azureml-pt-tf"
  },
  "language_info": {
   "codemirror_mode": {
    "name": "ipython",
    "version": 3
   },
   "file_extension": ".py",
   "mimetype": "text/x-python",
   "name": "python",
   "nbconvert_exporter": "python",
   "pygments_lexer": "ipython3",
   "version": "3.8.5"
  },
  "orig_nbformat": 4
 },
 "nbformat": 4,
 "nbformat_minor": 2
}
