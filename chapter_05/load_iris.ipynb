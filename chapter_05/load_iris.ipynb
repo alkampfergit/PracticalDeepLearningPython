{
 "cells": [
  {
   "cell_type": "code",
   "execution_count": 20,
   "metadata": {},
   "outputs": [
    {
     "name": "stdout",
     "output_type": "stream",
     "text": [
      "Current working directory: /mnt/batch/tasks/shared/LS_root/mounts/clusters/alkampfer1/code/Users/alkampfer/PracticalDeepLearningPython/chapter_05\n"
     ]
    }
   ],
   "source": [
    "import numpy as np\n",
    "import urllib.request\n",
    "\n",
    "url = \"https://archive.ics.uci.edu/ml/machine-learning-databases/iris/iris.data\"\n",
    "filename = \"../data/iris/iris.data\"\n",
    "\n",
    "import os\n",
    "\n",
    "# Get the current working directory\n",
    "cwd = os.getcwd()\n",
    "\n",
    "# Print the current working directory\n",
    "print(\"Current working directory:\", cwd)\n",
    "\n",
    "urllib.request.urlretrieve(url, filename)\n",
    "\n",
    "with open(\"../data/iris/iris.data\") as f:\n",
    "    lines = [i[:-1] for i in f.readlines()]\n",
    "\n",
    "n = [\"Iris-setosa\",\"Iris-versicolor\",\"Iris-virginica\"]\n",
    "x = [n.index(i.split(\",\")[-1]) for i in lines if i != \"\"] \n",
    "x = np.array(x, dtype=\"uint8\")\n"
   ]
  },
  {
   "attachments": {},
   "cell_type": "markdown",
   "metadata": {},
   "source": [
    "Sure! \n",
    "\n",
    "In the code snippet you provided, `n` is a list of the three possible classes of iris flowers: \"Iris-setosa\", \"Iris-versicolor\", and \"Iris-virginica\". \n",
    "\n",
    "`lines` is a list of strings, where each string represents a line in the iris.data file. Each line contains four measurements (sepal length, sepal width, petal length, and petal width) for an iris flower, followed by the class of the flower.\n",
    "\n",
    "The line you selected is a list comprehension that iterates over each line in `lines` and extracts the class of the iris flower. Specifically, it does the following:\n",
    "\n",
    "- `i.split(\",\")[-1]` splits the line by commas and selects the last element, which is the class of the iris flower.\n",
    "- `n.index(...)` finds the index of the class in the `n` list. For example, if the class is \"Iris-setosa\", this will return 0.\n",
    "- The resulting index is added to the `x` list.\n",
    "\n",
    "So, the `x` list contains an integer representation of the class of each iris flower in the dataset. For example, if the class of the first flower is \"Iris-setosa\", then `x[0]` will be 0."
   ]
  },
  {
   "cell_type": "code",
   "execution_count": 21,
   "metadata": {},
   "outputs": [
    {
     "name": "stdout",
     "output_type": "stream",
     "text": [
      "[0 0 0 0 0 0 0 0 0 0 0 0 0 0 0 0 0 0 0 0 0 0 0 0 0 0 0 0 0 0 0 0 0 0 0 0 0\n",
      " 0 0 0 0 0 0 0 0 0 0 0 0 0 1 1 1 1 1 1 1 1 1 1 1 1 1 1 1 1 1 1 1 1 1 1 1 1\n",
      " 1 1 1 1 1 1 1 1 1 1 1 1 1 1 1 1 1 1 1 1 1 1 1 1 1 1 2 2 2 2 2 2 2 2 2 2 2\n",
      " 2 2 2 2 2 2 2 2 2 2 2 2 2 2 2 2 2 2 2 2 2 2 2 2 2 2 2 2 2 2 2 2 2 2 2 2 2\n",
      " 2 2]\n"
     ]
    }
   ],
   "source": [
    "print(x)"
   ]
  },
  {
   "cell_type": "code",
   "execution_count": 23,
   "metadata": {},
   "outputs": [
    {
     "name": "stdout",
     "output_type": "stream",
     "text": [
      "Shape of y: (150, 4)\n",
      "[[5.1 3.5 1.4 0.2]\n",
      " [4.9 3.  1.4 0.2]\n",
      " [4.7 3.2 1.3 0.2]\n",
      " [4.6 3.1 1.5 0.2]\n",
      " [5.  3.6 1.4 0.2]\n",
      " [5.4 3.9 1.7 0.4]\n",
      " [4.6 3.4 1.4 0.3]]\n"
     ]
    }
   ],
   "source": [
    "\n",
    "y = [[float(j) for j in i.split(\",\")[:-1]] for i in lines if i != \"\"] \n",
    "y = np.array(y)\n",
    "print(\"Shape of y: {}\".format(y.shape))\n",
    "print(y[:7])"
   ]
  },
  {
   "cell_type": "code",
   "execution_count": 24,
   "metadata": {},
   "outputs": [],
   "source": [
    "\n",
    "i = np.argsort(np.random.random(x.shape[0]))\n"
   ]
  },
  {
   "attachments": {},
   "cell_type": "markdown",
   "metadata": {},
   "source": [
    "This line of code generates a random permutation of the indices of the `x` array. \n",
    "\n",
    "`np.random.random(x.shape[0])` generates an array of random numbers between 0 and 1 with the same length as the number of rows in `x`. \n",
    "\n",
    "`np.argsort(...)` returns the indices that would sort the array in ascending order. Since we want a random permutation, we pass the array of random numbers to `np.argsort` instead of `x`. \n",
    "\n",
    "The resulting array of indices is a random permutation of the indices of the `x` array. This permutation is used to shuffle the rows of both the `x` and `y` arrays, so that the data is randomly ordered."
   ]
  },
  {
   "cell_type": "code",
   "execution_count": 26,
   "metadata": {},
   "outputs": [
    {
     "name": "stdout",
     "output_type": "stream",
     "text": [
      "[ 97  55  90 144 115 138  22  83  61  86   5  65  34  85  45 104  96  66\n",
      "  70 113  53  60  37 110  79  62 127  98   4  42   6 118  89 103 111 121\n",
      "  81  19  26 136  23   0  67   1  18  28 106 100  46  87 119  35  56  58\n",
      "  77  54  68  84  10  93 116  71 120 145  78  12  25  72  51 147  99 102\n",
      " 132   9  24   2 135  39 148  43  76  16 133  11  48  57   8   3  73  47\n",
      "  95  69 114  74 129  64 107  63  17  59  80 137 146  88 117 123  49 134\n",
      "  14 142  36  40  29 108 130 125   7  44 128 124  30 122  13  50 126  21\n",
      "  31  20 140  91 112  94 109  41 141 105  15  82 131  27  75  33 149  38\n",
      "  52 139 101  32  92 143]\n"
     ]
    }
   ],
   "source": [
    "x = x[i]\n",
    "y = y[i]\n",
    "\n",
    "np.save(\"../data/iris_features.npy\", y)\n",
    "np.save(\"../data/iris_labels.npy\", x)\n",
    "print(i)\n"
   ]
  },
  {
   "cell_type": "code",
   "execution_count": 8,
   "metadata": {},
   "outputs": [
    {
     "data": {
      "image/png": "[encoded data removed]",
      "text/plain": [
       "<Figure size 640x480 with 1 Axes>"
      ]
     },
     "metadata": {},
     "output_type": "display_data"
    }
   ],
   "source": [
    "# plot y with mathplotlib and boxplot\n",
    "\n",
    "import matplotlib.pyplot as plt\n",
    "plt.boxplot(y)\n",
    "plt.show()\n"
   ]
  },
  {
   "cell_type": "code",
   "execution_count": 9,
   "metadata": {},
   "outputs": [
    {
     "data": {
      "image/png": "[encoded data removed]",
      "text/plain": [
       "<Figure size 640x480 with 1 Axes>"
      ]
     },
     "metadata": {},
     "output_type": "display_data"
    }
   ],
   "source": [
    "import numpy as np\n",
    "# for y calculate mean, median, standard deviation and normalize the data\n",
    "# Calculate mean, median, and standard deviation of y\n",
    "y_mean = np.mean(y, axis=0)\n",
    "y_median = np.median(y, axis=0)\n",
    "y_std = np.std(y, axis=0)\n",
    "\n",
    "# Normalize y\n",
    "y_norm = (y - y_mean) / y_std\n",
    "\n",
    "# plot y_norm\n",
    "plt.boxplot(y_norm)\n",
    "plt.show()\n"
   ]
  },
  {
   "attachments": {},
   "cell_type": "markdown",
   "metadata": {},
   "source": [
    "The reason for using `N-1` instead of `N` in the denominator of the formula for the sample standard deviation is to correct for bias in the estimate of the population standard deviation.\n",
    "\n",
    "When we calculate the sample standard deviation, we are using a sample of `N` observations to estimate the population standard deviation. However, because we are using a sample instead of the entire population, our estimate of the standard deviation is likely to be slightly lower than the true population standard deviation. This is known as bias.\n",
    "\n",
    "To correct for this bias, we divide by `N-1` instead of `N` in the denominator of the formula. This is known as Bessel's correction. By dividing by `N-1`, we are effectively using a slightly larger denominator, which increases the value of the standard deviation estimate and corrects for the bias.\n",
    "\n",
    "In practice, the difference between using `N` and `N-1` in the denominator is usually small, especially for large sample sizes. However, for small sample sizes, the difference can be significant, and it is important to use `N-1` to obtain an unbiased estimate of the population standard deviation."
   ]
  },
  {
   "attachments": {},
   "cell_type": "markdown",
   "metadata": {},
   "source": [
    "The `np.std` function calculates the standard deviation of an array along a specified axis. The formula for the sample standard deviation is:\n",
    "\n"
   ]
  },
  {
   "cell_type": "code",
   "execution_count": null,
   "metadata": {},
   "outputs": [],
   "source": [
    "s = sqrt(sum((x - x_mean)**2) / (n - 1))"
   ]
  },
  {
   "attachments": {},
   "cell_type": "markdown",
   "metadata": {},
   "source": [
    "\n",
    "\n",
    "where `x` is the array of values, `x_mean` is the mean of the values, `n` is the number of values, and `sqrt` is the square root function.\n",
    "\n",
    "The `np.std` function calculates the sample standard deviation by default, which means that it divides by `n-1` instead of `n`. However, you can change this behavior by setting the `ddof` (degrees of freedom) parameter to a different value. For example, setting `ddof=0` would calculate the population standard deviation instead of the sample standard deviation."
   ]
  },
  {
   "cell_type": "code",
   "execution_count": 25,
   "metadata": {},
   "outputs": [
    {
     "name": "stdout",
     "output_type": "stream",
     "text": [
      "Mean: [ 3.85173375e-15 -1.65053156e-15 -7.66423961e-16 -4.60187444e-16]\n",
      "Median: [-0.05250608 -0.1249576   0.33626586  0.13322594]\n",
      "Standard Deviation: [1. 1. 1. 1.]\n"
     ]
    }
   ],
   "source": [
    "# calculate and print median, mean value, standard deviation of y_norm\n",
    "y_norm_mean = np.mean(y_norm, axis=0)\n",
    "y_norm_median = np.median(y_norm, axis=0)\n",
    "y_norm_std = np.std(y_norm, axis=0)\n",
    "\n",
    "print(\"Mean: {}\".format(y_norm_mean))\n",
    "print(\"Median: {}\".format(y_norm_median))\n",
    "print(\"Standard Deviation: {}\".format(y_norm_std))\n"
   ]
  },
  {
   "attachments": {},
   "cell_type": "markdown",
   "metadata": {},
   "source": [
    "The reason for using `N-1` instead of `N` in the denominator of the formula for the sample standard deviation is to correct for bias in the estimate of the population standard deviation.\n",
    "\n",
    "When we calculate the sample standard deviation, we are using a sample of `N` observations to estimate the population standard deviation. However, because we are using a sample instead of the entire population, our estimate of the standard deviation is likely to be slightly lower than the true population standard deviation. This is known as bias.\n",
    "\n",
    "To correct for this bias, we divide by `N-1` instead of `N` in the denominator of the formula. This is known as Bessel's correction. By dividing by `N-1`, we are effectively using a slightly larger denominator, which increases the value of the standard deviation estimate and corrects for the bias.\n",
    "\n",
    "In practice, the difference between using `N` and `N-1` in the denominator is usually small, especially for large sample sizes. However, for small sample sizes, the difference can be significant, and it is important to use `N-1` to obtain an unbiased estimate of the population standard deviation."
   ]
  }
 ],
 "metadata": {
  "kernelspec": {
   "display_name": "Python 3.8 - Pytorch and Tensorflow",
   "language": "python",
   "name": "python38-azureml-pt-tf"
  },
  "language_info": {
   "codemirror_mode": {
    "name": "ipython",
    "version": 3
   },
   "file_extension": ".py",
   "mimetype": "text/x-python",
   "name": "python",
   "nbconvert_exporter": "python",
   "pygments_lexer": "ipython3",
   "version": "3.8.5"
  },
  "orig_nbformat": 4
 },
 "nbformat": 4,
 "nbformat_minor": 2
}
