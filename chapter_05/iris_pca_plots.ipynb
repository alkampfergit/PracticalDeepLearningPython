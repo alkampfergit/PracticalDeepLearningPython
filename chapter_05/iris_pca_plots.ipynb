{
 "cells": [
  {
   "cell_type": "code",
   "execution_count": 13,
   "metadata": {},
   "outputs": [
    {
     "name": "stdout",
     "output_type": "stream",
     "text": [
      "x shape:  (150, 2)\n",
      "y shape:  (150,)\n",
      "[7.3 5.1 5.  5.4 5.2]\n",
      "[2.9 3.4 3.5 3.9 2.7]\n",
      "[[7.3 2.9]\n",
      " [5.1 3.4]\n",
      " [5.  3.5]\n",
      " [5.4 3.9]\n",
      " [5.2 2.7]]\n",
      "(array([  0,   1,   2,   3,   4,   5,   6,   7,   8,   9,  11,  16,  17,\n",
      "        18,  19,  20,  21,  22,  23,  24,  25,  26,  29,  30,  32,  34,\n",
      "        35,  36,  37,  38,  39,  40,  41,  43,  44,  45,  46,  49,  50,\n",
      "        51,  52,  54,  55,  57,  58,  59,  60,  61,  63,  64,  65,  67,\n",
      "        68,  72,  73,  74,  77,  78,  79,  81,  83,  84,  85,  86,  87,\n",
      "        88,  90,  91,  92,  94,  95,  96,  97,  98,  99, 104, 108, 109,\n",
      "       110, 111, 115, 116, 117, 118, 119, 123, 124, 125, 126, 129, 131,\n",
      "       134, 135, 136, 139, 140, 141, 144, 146, 149]),)\n"
     ]
    }
   ],
   "source": [
    "import numpy as np\n",
    "import matplotlib.pylab as plt \n",
    "from sklearn import decomposition\n",
    "\n",
    "x = np.load(\"../data/iris/iris_features.npy\")[:,:2]\n",
    "y = np.load(\"../data/iris/iris_labels.npy\")\n",
    "idx = np.where(y != 0)\n",
    "\n",
    "#print info about x and y shape\n",
    "print(\"x shape: \", x.shape)\n",
    "print(\"y shape: \", y.shape)\n",
    "\n",
    "print (x[:5,0])\n",
    "print (x[:5,1])\n",
    "print(x[:5])\n",
    "print (idx)\n",
    "x = x[idx]\n",
    "\n",
    "# compact way to work with array in numpy\n",
    "x[:,0] -= x[:,0].mean()\n",
    "x[:,1] -= x[:,1].mean()\n"
   ]
  },
  {
   "attachments": {},
   "cell_type": "markdown",
   "metadata": {},
   "source": [
    "This code loads the iris dataset, selects the first two features, and centers the data by subtracting the mean of each feature. It prepares the data for the PCA transformation that will be performed later in the code."
   ]
  },
  {
   "cell_type": "code",
   "execution_count": 14,
   "metadata": {},
   "outputs": [
    {
     "name": "stdout",
     "output_type": "stream",
     "text": [
      "PCA(n_components=2)\n",
      "v:  [0.79800367 0.20199633]\n"
     ]
    }
   ],
   "source": [
    "\n",
    "pca = decomposition.PCA(n_components=2)\n",
    "pca.fit(x)\n",
    "\n",
    "v = pca.explained_variance_ratio_\n",
    "print(\"v: \", v)"
   ]
  },
  {
   "attachments": {},
   "cell_type": "markdown",
   "metadata": {},
   "source": [
    "This piece of code performs a PCA (Principal Component Analysis) transformation on the `x` array using scikit-learn's `decomposition.PCA` class.\n",
    "\n",
    "The `PCA` class is initialized with `n_components=2`, which specifies that we want to transform the data into a new 2D space. The `fit` method is then called on the data `x` to learn the transformation matrix. The `explained_variance_ratio_` attribute of the `PCA` object is used to compute the amount of variance explained by each principal component.\n",
    "\n",
    "The resulting `v` array contains the variance explained by each principal component. The first element of `v` is the amount of variance explained by the first principal component, and the second element is the amount of variance explained by the second principal component.\n",
    "\n",
    "Overall, this code performs a PCA transformation on the `x` array and computes the amount of variance explained by each principal component."
   ]
  },
  {
   "cell_type": "code",
   "execution_count": 15,
   "metadata": {},
   "outputs": [
    {
     "data": {
      "image/png": "[encoded data removed]",
      "text/plain": [
       "<Figure size 640x480 with 1 Axes>"
      ]
     },
     "metadata": {},
     "output_type": "display_data"
    }
   ],
   "source": [
    "\n",
    "   \n",
    "ax = plt.axes()\n",
    "plt.scatter(x[:,0],x[:,1],marker='o',color='b')\n",
    "x0 = v[0]*pca.components_[0,0]\n",
    "y0 = v[0]*pca.components_[0,1]\n",
    "ax.arrow(0, 0, x0, y0, head_width=0.05, head_length=0.1, fc='r', ec='r')\n",
    "x1 = v[1]*pca.components_[1,0]\n",
    "y1 = v[1]*pca.components_[1,1]\n",
    "ax.arrow(0, 0, x1, y1, head_width=0.05, head_length=0.1, fc='r', ec='r')\n",
    "plt.xlabel(\"$x_0$\", fontsize=16)\n",
    "plt.ylabel(\"$x_1$\", fontsize=16)\n",
    "plt.show()\n",
    "\n"
   ]
  },
  {
   "attachments": {},
   "cell_type": "markdown",
   "metadata": {},
   "source": [
    "To calculate the covariance matrix of the data, you can use the `np.cov()` function from the NumPy library. The `np.cov()` function takes the data as input and returns the covariance matrix.\n",
    "\n",
    "Here's an example of how to calculate the covariance matrix of the iris dataset:\n",
    "\n"
   ]
  },
  {
   "cell_type": "code",
   "execution_count": 16,
   "metadata": {},
   "outputs": [
    {
     "name": "stdout",
     "output_type": "stream",
     "text": [
      "[[ 0.68569351 -0.042434    1.27431544  0.51627069]\n",
      " [-0.042434    0.18997942 -0.32965638 -0.12163937]\n",
      " [ 1.27431544 -0.32965638  3.11627785  1.2956094 ]\n",
      " [ 0.51627069 -0.12163937  1.2956094   0.58100626]]\n"
     ]
    }
   ],
   "source": [
    "import numpy as np\n",
    "from sklearn.datasets import load_iris\n",
    "\n",
    "# Load the iris dataset\n",
    "iris = load_iris()\n",
    "x = iris.data\n",
    "\n",
    "# Calculate the covariance matrix\n",
    "covariance_matrix = np.cov(x.T)\n",
    "\n",
    "# Print the covariance matrix\n",
    "print(covariance_matrix)"
   ]
  },
  {
   "attachments": {},
   "cell_type": "markdown",
   "metadata": {},
   "source": [
    "A covariance matrix is a square matrix that summarizes the covariance between multiple variables. The covariance between two variables measures how much the variables change together. If the covariance is positive, it means that the variables tend to increase or decrease together. If the covariance is negative, it means that the variables tend to move in opposite directions.\n",
    "\n",
    "The covariance matrix is a symmetric matrix, where the diagonal elements represent the variance of each variable, and the off-diagonal elements represent the covariance between each pair of variables. The covariance matrix is often used in multivariate analysis to understand the relationships between multiple variables.\n",
    "\n",
    "In the code you provided, the covariance matrix of the iris dataset is calculated using the `np.cov()` function from the NumPy library. The covariance matrix summarizes the covariance between the four features of the iris dataset (sepal length, sepal width, petal length, and petal width). The diagonal elements of the covariance matrix represent the variance of each feature, and the off-diagonal elements represent the covariance between each pair of features."
   ]
  },
  {
   "attachments": {},
   "cell_type": "markdown",
   "metadata": {},
   "source": [
    "\n",
    "\n",
    "In this example, the `load_iris()` function is used to load the iris dataset, and the `data` attribute is used to extract the feature matrix `x`. The `np.cov()` function is then used to calculate the covariance matrix of `x.T`, which is the transpose of `x`. The transpose is used because `np.cov()` expects the features to be in the rows and the samples to be in the columns. Finally, the covariance matrix is printed using the `print()` function."
   ]
  },
  {
   "attachments": {},
   "cell_type": "markdown",
   "metadata": {},
   "source": [
    "This graph represents the results of a PCA (Principal Component Analysis) transformation on the iris dataset. The transformed data is plotted in a new 2D space, with the first principal component along the x-axis and the second principal component along the y-axis.\n",
    "\n",
    "The blue dots represent the transformed data points, and the red arrows represent the direction and magnitude of the first two principal components. The length of each arrow represents the amount of variance explained by the corresponding principal component.\n",
    "\n",
    "The plot shows that the first principal component (represented by the longer red arrow) captures most of the variation in the data, while the second principal component (represented by the shorter red arrow) captures less variation. This suggests that the first principal component is a more important feature for distinguishing between the different classes of iris flowers.\n",
    "\n",
    "Overall, this graph provides a visualization of the PCA transformation and the importance of each principal component in explaining the variation in the data."
   ]
  }
 ],
 "metadata": {
  "kernelspec": {
   "display_name": "Python 3.8 - Pytorch and Tensorflow",
   "language": "python",
   "name": "python38-azureml-pt-tf"
  },
  "orig_nbformat": 4
 },
 "nbformat": 4,
 "nbformat_minor": 2
}
