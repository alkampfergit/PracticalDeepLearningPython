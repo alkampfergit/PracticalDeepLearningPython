{
 "cells": [
  {
   "cell_type": "code",
   "execution_count": 2,
   "metadata": {},
   "outputs": [],
   "source": [
    "import numpy as np\n",
    "import keras\n",
    "from keras.datasets import mnist\n",
    "\n",
    "(xtrn, ytrn), (xtst, ytst) = mnist.load_data()\n",
    "idx = np.argsort(np.random.random(ytrn.shape[0]))\n",
    "xtrn = xtrn[idx]\n",
    "ytrn = ytrn[idx]\n",
    "idx = np.argsort(np.random.random(ytst.shape[0]))\n",
    "xtst = xtst[idx]\n",
    "ytst = ytst[idx]\n",
    "\n",
    "np.save(\"../data/mnist/mnist_train_images.npy\", xtrn)\n",
    "np.save(\"../data/mnist/mnist_train_labels.npy\", ytrn)\n",
    "np.save(\"../data/mnist/mnist_test_images.npy\", xtst)\n",
    "np.save(\"../data/mnist/mnist_test_labels.npy\", ytst)"
   ]
  },
  {
   "attachments": {},
   "cell_type": "markdown",
   "metadata": {},
   "source": [
    "This block of code is used to download and preprocess the MNIST dataset, which is a commonly used dataset for image classification tasks.\n",
    "\n",
    "The first line imports the necessary modules: `numpy`, `keras`, and `mnist` from `keras.datasets`.\n",
    "\n",
    "The next line loads the MNIST dataset using the `mnist.load_data()` function. This function returns two tuples: one for the training data (`xtrn` and `ytrn`) and one for the test data (`xtst` and `ytst`).\n",
    "\n",
    "The next two lines generate a random permutation of the indices of the training and test data, respectively. This shuffles the data randomly, which can help prevent overfitting and improve the performance of the model.\n",
    "\n",
    "The next four lines save the preprocessed data to disk using the `np.save()` function. This saves the training and test images and labels as NumPy arrays in the `../data/mnist/` directory. The saved files are named `mnist_train_images.npy`, `mnist_train_labels.npy`, `mnist_test_images.npy`, and `mnist_test_labels.npy`, respectively.\n",
    "\n",
    "Overall, this block of code loads the MNIST dataset, shuffles the data randomly, and saves the preprocessed data to disk for later use in training and evaluating machine learning models."
   ]
  },
  {
   "cell_type": "code",
   "execution_count": 5,
   "metadata": {},
   "outputs": [
    {
     "name": "stdout",
     "output_type": "stream",
     "text": [
      "xtrnv.shape =  (60000, 784)\n",
      "xtstv.shape =  (10000, 784)\n"
     ]
    }
   ],
   "source": [
    "xtrnv = xtrn.reshape((60000,28*28))\n",
    "xtstv = xtst.reshape((10000,28*28))\n",
    "np.save(\"../data/mnist/mnist_train_vectors.npy\", xtrnv)\n",
    "np.save(\"../data/mnist/mnist_test_vectors.npy\", xtstv)\n",
    "\n",
    "print(\"xtrnv.shape = \", xtrnv.shape)\n",
    "print(\"xtstv.shape = \", xtstv.shape)"
   ]
  },
  {
   "attachments": {},
   "cell_type": "markdown",
   "metadata": {},
   "source": [
    "This block of code is used to preprocess the MNIST dataset by flattening the images into vectors and saving the resulting vectors to disk as NumPy arrays.\n",
    "\n",
    "The first two lines reshape the training and test images from 3D arrays (with dimensions `(num_samples, 28, 28)`) to 2D arrays (with dimensions `(num_samples, 28*28)`). This flattens each image into a vector of length 784 (28*28).\n",
    "\n",
    "The next two lines save the flattened training and test images to disk using the `np.save()` function. This saves the flattened images as NumPy arrays in the `../data/mnist/` directory. The saved files are named `mnist_train_vectors.npy` and `mnist_test_vectors.npy`, respectively.\n",
    "\n",
    "Overall, this block of code flattens the MNIST images into vectors and saves the resulting vectors to disk for later use in training and evaluating machine learning models."
   ]
  },
  {
   "attachments": {},
   "cell_type": "markdown",
   "metadata": {},
   "source": [
    "The `reshape` function in NumPy is used to change the shape of an array without changing its data. It returns a new array with the same data but a different shape.\n",
    "\n",
    "The `reshape` function takes one argument, which is a tuple specifying the new shape of the array. The elements of the tuple represent the size of each dimension of the new array. For example, if you have a 2D array with shape `(3, 4)` and you want to reshape it to a 1D array with length 12, you can use the following code:\n",
    "\n"
   ]
  },
  {
   "cell_type": "code",
   "execution_count": 7,
   "metadata": {},
   "outputs": [
    {
     "name": "stdout",
     "output_type": "stream",
     "text": [
      "b =  [ 1  2  3  4  5  6  7  8  9 10 11 12]\n"
     ]
    }
   ],
   "source": [
    "import numpy as np\n",
    "\n",
    "# Create a 2D array with shape (3, 4)\n",
    "a = np.array([[1, 2, 3, 4],\n",
    "              [5, 6, 7, 8],\n",
    "              [9, 10, 11, 12]])\n",
    "\n",
    "# Reshape the array to a 1D array with length 12\n",
    "b = a.reshape((12,))\n",
    "print(\"b = \", b)"
   ]
  },
  {
   "attachments": {},
   "cell_type": "markdown",
   "metadata": {},
   "source": [
    "\n",
    "\n",
    "In this code, we first create a 2D array `a` with shape `(3, 4)`. We then use the `reshape` function to reshape the array to a 1D array `b` with length 12. The argument to `reshape` is a tuple `(12,)`, which specifies the new shape of the array.\n",
    "\n",
    "The `reshape` function can also be used to change the shape of a multi-dimensional array. For example, if you have a 3D array with shape `(2, 3, 4)` and you want to reshape it to a 2D array with shape `(2, 12)`, you can use the following code:\n",
    "\n"
   ]
  },
  {
   "cell_type": "code",
   "execution_count": 8,
   "metadata": {},
   "outputs": [
    {
     "name": "stdout",
     "output_type": "stream",
     "text": [
      "b =  [[ 0  1  2  3  4  5  6  7  8  9 10 11]\n",
      " [12 13 14 15 16 17 18 19 20 21 22 23]]\n"
     ]
    }
   ],
   "source": [
    "import numpy as np\n",
    "\n",
    "# Create a 3D array with shape (2, 3, 4)\n",
    "a = np.array([[[ 0,  1,  2,  3],\n",
    "               [ 4,  5,  6,  7],\n",
    "               [ 8,  9, 10, 11]],\n",
    "\n",
    "              [[12, 13, 14, 15],\n",
    "               [16, 17, 18, 19],\n",
    "               [20, 21, 22, 23]]])\n",
    "\n",
    "# Reshape the array to a 2D array with shape (2, 12)\n",
    "b = a.reshape((2, 12))\n",
    "print(\"b = \", b)"
   ]
  },
  {
   "attachments": {},
   "cell_type": "markdown",
   "metadata": {},
   "source": [
    "\n",
    "\n",
    "In this code, we first create a 3D array `a` with shape `(2, 3, 4)`. We then use the `reshape` function to reshape the array to a 2D array `b` with shape `(2, 12)`. The argument to `reshape` is a tuple `(2, 12)`, which specifies the new shape of the array.\n",
    "\n",
    "Note that the total number of elements in the original array must be equal to the total number of elements in the reshaped array. Otherwise, the `reshape` function will raise a `ValueError`."
   ]
  },
  {
   "cell_type": "code",
   "execution_count": 9,
   "metadata": {},
   "outputs": [],
   "source": [
    "idx = np.argsort(np.random.random(28*28))\n",
    "for i in range(60000):\n",
    "    xtrnv[i,:] = xtrnv[i,idx]\n",
    "for i in range(10000):\n",
    "    xtstv[i,:] = xtstv[i,idx]\n",
    "np.save(\"../data/mnist/mnist_train_scrambled_vectors.npy\", xtrnv)\n",
    "np.save(\"../data/mnist/mnist_test_scrambled_vectors.npy\", xtstv)"
   ]
  },
  {
   "attachments": {},
   "cell_type": "markdown",
   "metadata": {},
   "source": [
    "This block of code is used to scramble the pixel values of the MNIST images and save the resulting scrambled images to disk as NumPy arrays.\n",
    "\n",
    "The first line generates a random permutation of the indices of the pixels in each image. The `np.random.random` function generates an array of random numbers between 0 and 1 with the same length as the number of pixels in each image (28*28). The `np.argsort` function returns the indices that would sort the array in ascending order. Since we want a random permutation, we pass the array of random numbers to `np.argsort` instead of the image itself.\n",
    "\n",
    "The next two lines use the permutation to scramble the pixel values of the training and test images, respectively. For each image, we select the pixels in the order specified by the permutation and rearrange them into a new image. This shuffles the pixels randomly, which can help prevent overfitting and improve the performance of the model.\n",
    "\n",
    "The last two lines save the scrambled training and test images to disk using the `np.save()` function. This saves the scrambled images as NumPy arrays in the `../data/mnist/` directory. The saved files are named `mnist_train_scrambled_vectors.npy` and `mnist_test_scrambled_vectors.npy`, respectively.\n",
    "\n",
    "Overall, this block of code scrambles the pixel values of the MNIST images and saves the resulting scrambled images to disk for later use in training and evaluating machine learning models."
   ]
  },
  {
   "cell_type": "code",
   "execution_count": 10,
   "metadata": {},
   "outputs": [],
   "source": [
    "t = np.zeros((60000,28,28))\n",
    "for i in range(60000):\n",
    "    t[i,:,:] = xtrnv[i,:].reshape((28,28))\n",
    "np.save(\"../data/mnist/mnist_train_scrambled_images.npy\", t)\n",
    "t = np.zeros((10000,28,28))\n",
    "for i in range(10000):\n",
    "    t[i,:,:] = xtstv[i,:].reshape((28,28))\n",
    "np.save(\"../data/mnist/mnist_test_scrambled_images.npy\", t)"
   ]
  },
  {
   "attachments": {},
   "cell_type": "markdown",
   "metadata": {},
   "source": [
    "  \n",
    "\n",
    "\n",
    "\n",
    "This block of code is used to reshape the flattened MNIST vectors back into 2D arrays of pixel values and save the resulting images to disk as NumPy arrays.\n",
    "\n",
    "The first two lines create empty arrays `t` with the appropriate shape to hold the training and test images. The shape of each array is `(num_samples, 28, 28)`, where `num_samples` is the number of images in the training or test set.\n",
    "\n",
    "The next two lines use a loop to reshape the flattened training and test vectors back into 2D arrays of pixel values and store them in the `t` arrays. For each image, we use the `reshape` function to reshape the flattened vector into a 2D array with shape `(28, 28)`.\n",
    "\n",
    "The last two lines save the reshaped training and test images to disk using the `np.save()` function. This saves the images as NumPy arrays in the `../data/mnist/` directory. The saved files are named `mnist_train_scrambled_images.npy` and `mnist_test_scrambled_images.npy`, respectively.\n",
    "\n",
    "Overall, this block of code reshapes the flattened MNIST vectors back into 2D arrays of pixel values and saves the resulting images to disk for later use in training and evaluating machine learning models."
   ]
  },
  {
   "attachments": {},
   "cell_type": "markdown",
   "metadata": {},
   "source": [
    "```python\n",
    "t[i,:,:] = xtrnv[i,:].reshape((28,28))\n",
    "```\n",
    "\n",
    "This line of code is used to reshape the flattened training vectors back into 2D arrays of pixel values and store them in the `t` array.\n",
    "\n",
    "The `reshape` function is used to reshape the flattened vector into a 2D array with shape `(28, 28)`. This restores the original shape of the image, which was a 2D array of pixel values with dimensions `(28, 28)`.\n",
    "\n",
    "The resulting 2D array is then stored in the `t` array at the `i`-th position along the first axis (`t[i,:,:]`). The second and third axes are left unspecified, so they are filled with the corresponding values from the flattened vector.\n",
    "\n",
    "Overall, this line of code reshapes the flattened training vectors back into 2D arrays of pixel values and stores the resulting images in the `t` array for later use in training and evaluating machine learning models."
   ]
  }
 ],
 "metadata": {
  "kernelspec": {
   "display_name": "Python 3.8 - Pytorch and Tensorflow",
   "language": "python",
   "name": "python38-azureml-pt-tf"
  },
  "orig_nbformat": 4
 },
 "nbformat": 4,
 "nbformat_minor": 2
}
