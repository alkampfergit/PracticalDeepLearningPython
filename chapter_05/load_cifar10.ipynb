{
 "cells": [
  {
   "cell_type": "code",
   "execution_count": 3,
   "metadata": {},
   "outputs": [
    {
     "name": "stdout",
     "output_type": "stream",
     "text": [
      "xtrn.shape =  (50000, 32, 32, 3)\n",
      "ytrn.shape =  (50000, 1)\n",
      "xtst.shape =  (10000, 32, 32, 3)\n",
      "ytst.shape =  (10000, 1)\n"
     ]
    }
   ],
   "source": [
    "import os\n",
    "import numpy as np\n",
    "import keras\n",
    "from keras.datasets import cifar10\n",
    "\n",
    "(xtrn, ytrn), (xtst, ytst) = cifar10.load_data()\n",
    "idx = np.argsort(np.random.random(ytrn.shape[0]))\n",
    "xtrn = xtrn[idx]\n",
    "ytrn = ytrn[idx]\n",
    "idx = np.argsort(np.random.random(ytst.shape[0]))\n",
    "xtst = xtst[idx]\n",
    "ytst = ytst[idx]\n",
    "\n",
    "# print some information about data\n",
    "print(\"xtrn.shape = \", xtrn.shape)\n",
    "print(\"ytrn.shape = \", ytrn.shape)\n",
    "print(\"xtst.shape = \", xtst.shape)\n",
    "print(\"ytst.shape = \", ytst.shape)\n",
    "\n"
   ]
  },
  {
   "cell_type": "code",
   "execution_count": 4,
   "metadata": {},
   "outputs": [
    {
     "name": "stderr",
     "output_type": "stream",
     "text": [
      "mkdir: cannot create directory ‘../data/cifar10/’: File exists\n"
     ]
    },
    {
     "name": "stdout",
     "output_type": "stream",
     "text": [
      "xtrnv.shape =  (50000, 3072)\n",
      "xtstv.shape =  (10000, 3072)\n"
     ]
    }
   ],
   "source": [
    "\n",
    "\n",
    "os.system(\"mkdir ../data/cifar10/\")\n",
    "np.save(\"../data/cifar10/cifar10_train_images.npy\", xtrn)\n",
    "np.save(\"../data/cifar10/cifar10_train_labels.npy\", ytrn)\n",
    "np.save(\"../data/cifar10/cifar10_test_images.npy\", xtst)\n",
    "np.save(\"../data/cifar10/cifar10_test_labels.npy\", ytst)\n",
    "\n",
    "xtrnv = xtrn.reshape((50000,32*32*3))\n",
    "xtstv = xtst.reshape((10000,32*32*3))\n",
    "\n",
    "# print information on the data\n",
    "print(\"xtrnv.shape = \", xtrnv.shape)\n",
    "print(\"xtstv.shape = \", xtstv.shape)\n",
    "\n",
    "np.save(\"../data/cifar10/cifar10_train_vectors.npy\", xtrnv)\n",
    "np.save(\"../data/cifar10/cifar10_test_vectors.npy\", xtstv)\n",
    "\n"
   ]
  }
 ],
 "metadata": {
  "kernelspec": {
   "display_name": "Python 3.8 - Pytorch and Tensorflow",
   "language": "python",
   "name": "python38-azureml-pt-tf"
  },
  "language_info": {
   "codemirror_mode": {
    "name": "ipython",
    "version": 3
   },
   "file_extension": ".py",
   "mimetype": "text/x-python",
   "name": "python",
   "nbconvert_exporter": "python",
   "pygments_lexer": "ipython3",
   "version": "3.8.5"
  },
  "orig_nbformat": 4
 },
 "nbformat": 4,
 "nbformat_minor": 2
}
