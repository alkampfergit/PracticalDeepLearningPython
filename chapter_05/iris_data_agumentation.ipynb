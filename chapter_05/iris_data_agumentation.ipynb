{
 "cells": [
  {
   "cell_type": "code",
   "execution_count": 7,
   "metadata": {},
   "outputs": [
    {
     "name": "stdout",
     "output_type": "stream",
     "text": [
      "[0.92461621 0.05301557 0.01718514 0.00518309]\n"
     ]
    }
   ],
   "source": [
    "import numpy as np\n",
    "from sklearn import decomposition\n",
    "\n",
    "def generateData(pca, x, start):\n",
    "    original = pca.components_.copy()\n",
    "    ncomp = pca.components_.shape[0]\n",
    "    a = pca.transform(x)\n",
    "    for i in range(start, ncomp):\n",
    "        pca.components_[i,:] += np.random.normal(scale=0.1, size=ncomp)\n",
    "    b = pca.inverse_transform(a)\n",
    "    pca.components_ = original.copy()\n",
    "    return b\n",
    "\n",
    "def main():\n",
    "    x = np.load(\"../data/iris/iris_features.npy\")\n",
    "    y = np.load(\"../data/iris/iris_labels.npy\")\n",
    "\n",
    "    N = 120\n",
    "    x_train = x[:N]\n",
    "    y_train = y[:N]\n",
    "    x_test = x[N:]\n",
    "    y_test = y[N:]\n",
    "\n",
    "    pca = decomposition.PCA(n_components=4)\n",
    "    pca.fit(x)\n",
    "    print(pca.explained_variance_ratio_)\n",
    "    start = 2\n",
    "    \n",
    "    nsets = 10\n",
    "    nsamp = x_train.shape[0]\n",
    "    newx = np.zeros((nsets*nsamp, x_train.shape[1]))\n",
    "    newy = np.zeros(nsets*nsamp, dtype=\"uint8\")\n",
    "\n",
    "    for i in range(nsets):\n",
    "        if (i == 0):\n",
    "            newx[0:nsamp,:] = x_train\n",
    "            newy[0:nsamp] = y_train\n",
    "        else:\n",
    "            newx[(i*nsamp):(i*nsamp+nsamp),:] = generateData(pca, x_train, start)\n",
    "            newy[(i*nsamp):(i*nsamp+nsamp)] = y_train\n",
    "\n",
    "    idx = np.argsort(np.random.random(nsets*nsamp))\n",
    "    newx = newx[idx]\n",
    "    newy = newy[idx]\n",
    "\n",
    "    np.save(\"../data/iris/iris_train_features_augmented.npy\", newx)\n",
    "    np.save(\"../data/iris/iris_train_labels_augmented.npy\", newy)\n",
    "    np.save(\"../data/iris/iris_test_features_augmented.npy\", x_test)\n",
    "    np.save(\"../data/iris/iris_test_labels_augmented.npy\", y_test)\n",
    "\n",
    "main()\n",
    "\n"
   ]
  }
 ],
 "metadata": {
  "kernelspec": {
   "display_name": "Python 3.8 - Pytorch and Tensorflow",
   "language": "python",
   "name": "python38-azureml-pt-tf"
  },
  "language_info": {
   "codemirror_mode": {
    "name": "ipython",
    "version": 3
   },
   "file_extension": ".py",
   "mimetype": "text/x-python",
   "name": "python",
   "nbconvert_exporter": "python",
   "pygments_lexer": "ipython3",
   "version": "3.8.5"
  },
  "orig_nbformat": 4
 },
 "nbformat": 4,
 "nbformat_minor": 2
}
